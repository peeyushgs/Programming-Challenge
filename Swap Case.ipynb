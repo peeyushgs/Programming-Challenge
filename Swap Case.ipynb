{
 "cells": [
  {
   "cell_type": "markdown",
   "id": "3416774d",
   "metadata": {},
   "source": [
    "Have the function SwapCase(str) take the str parameter and swap the case of each character. \n",
    "For example: if str is \"Hello World\" the output should be hELLO wORLD. Let numbers and symbols stay the way they are.\n",
    "Examples\n",
    "Input: \"Hello-LOL\"\n",
    "Output: hELLO-lol\n",
    "Input: \"Sup DUDE!!?\"\n",
    "Output: sUP dude!!?"
   ]
  },
  {
   "cell_type": "code",
   "execution_count": 2,
   "id": "07f1b3df",
   "metadata": {},
   "outputs": [],
   "source": [
    "def SwapCase(s):\n",
    "# code goes here\n",
    "    t = ''\n",
    "    for word in s:\n",
    "        if word.isupper():\n",
    "          t = t + word.lower()\n",
    "        else:\n",
    "          t = t + word.upper()\n",
    "    return t\n",
    "\n",
    "# keep this function call here \n"
   ]
  },
  {
   "cell_type": "code",
   "execution_count": 3,
   "id": "d731f5e0",
   "metadata": {},
   "outputs": [
    {
     "name": "stdout",
     "output_type": "stream",
     "text": [
      "\"Hello-LOL\"\n",
      "\"hELLO-lol\"\n"
     ]
    }
   ],
   "source": [
    "print(SwapCase(input()))"
   ]
  },
  {
   "cell_type": "code",
   "execution_count": null,
   "id": "3d1bd775",
   "metadata": {},
   "outputs": [],
   "source": []
  }
 ],
 "metadata": {
  "kernelspec": {
   "display_name": "Python 3 (ipykernel)",
   "language": "python",
   "name": "python3"
  },
  "language_info": {
   "codemirror_mode": {
    "name": "ipython",
    "version": 3
   },
   "file_extension": ".py",
   "mimetype": "text/x-python",
   "name": "python",
   "nbconvert_exporter": "python",
   "pygments_lexer": "ipython3",
   "version": "3.8.8"
  }
 },
 "nbformat": 4,
 "nbformat_minor": 5
}
