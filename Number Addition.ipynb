{
 "cells": [
  {
   "cell_type": "markdown",
   "id": "d71be99f",
   "metadata": {},
   "source": [
    "Have the function NumberAddition(str) take the str parameter, search for all the numbers in the string, add them together, then return that final number. For example: if str is \"88Hello 3World!\" the output should be 91. You will have to differentiate between single digit numbers and multiple digit numbers like in the example above. So \"55Hello\" and \"5Hello 5\" should return two different answers. Each string will contain at least one letter or symbol.\n",
    "Examples\n",
    "Input: \"75Number9\"\n",
    "Output: 84\n",
    "Input: \"10 2One Number*1*\"\n",
    "Output: 13"
   ]
  },
  {
   "cell_type": "code",
   "execution_count": 4,
   "id": "f88e7f44",
   "metadata": {},
   "outputs": [],
   "source": [
    "def NumberAddition(s):\n",
    "    number = \"\"\n",
    "    i = 0 \n",
    "    total = 0\n",
    "  # base cases\n",
    "    s = s + \"k\"\n",
    "\n",
    "    while i < len(s):\n",
    "        if s[i].isdigit():\n",
    "            number +=s[i]\n",
    "        else:\n",
    "            if number != '':\n",
    "                total +=int(number)\n",
    "            number =\"\"   \n",
    "        i+=1\n",
    "    return total"
   ]
  },
  {
   "cell_type": "code",
   "execution_count": 5,
   "id": "4e2c782f",
   "metadata": {},
   "outputs": [
    {
     "name": "stdout",
     "output_type": "stream",
     "text": [
      "\"75Number9\"\n",
      "84\n"
     ]
    }
   ],
   "source": [
    "print(NumberAddition(input()))"
   ]
  },
  {
   "cell_type": "code",
   "execution_count": null,
   "id": "ef345576",
   "metadata": {},
   "outputs": [],
   "source": []
  }
 ],
 "metadata": {
  "kernelspec": {
   "display_name": "Python 3 (ipykernel)",
   "language": "python",
   "name": "python3"
  },
  "language_info": {
   "codemirror_mode": {
    "name": "ipython",
    "version": 3
   },
   "file_extension": ".py",
   "mimetype": "text/x-python",
   "name": "python",
   "nbconvert_exporter": "python",
   "pygments_lexer": "ipython3",
   "version": "3.8.8"
  }
 },
 "nbformat": 4,
 "nbformat_minor": 5
}
